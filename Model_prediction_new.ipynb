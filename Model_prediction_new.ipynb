{
 "cells": [
  {
   "cell_type": "code",
   "execution_count": 1,
   "id": "earned-revolution",
   "metadata": {},
   "outputs": [],
   "source": [
    "# Library Imports\n",
    "import numpy as np\n",
    "import matplotlib.pyplot as plt\n",
    "import pandas as pd\n",
    "from sklearn.metrics import mean_squared_error\n",
    "from sklearn.preprocessing import MinMaxScaler\n",
    "plt.style.use(\"ggplot\")\n",
    "import tensorflow as tf\n",
    "from tensorflow import keras\n",
    "from tensorflow.keras.models import Sequential\n",
    "from tensorflow.keras.layers import LSTM, Dense, Dropout,Bidirectional, Activation, LeakyReLU\n",
    "import datetime\n",
    "import schedule\n",
    "import time\n",
    "import os "
   ]
  },
  {
   "cell_type": "code",
   "execution_count": 2,
   "id": "streaming-tuner",
   "metadata": {},
   "outputs": [],
   "source": [
    "model = keras.models.load_model(\"test1.h5\")"
   ]
  },
  {
   "cell_type": "code",
   "execution_count": 3,
   "id": "three-encyclopedia",
   "metadata": {},
   "outputs": [],
   "source": [
    "def split_sequence(seq, n_steps_in, n_steps_out):\n",
    "    \"\"\"\n",
    "    Splits the univariate time sequence\n",
    "        \"\"\"\n",
    "    X, y = [], []\n",
    "    for i in range(len(seq)):\n",
    "        end = i + n_steps_in\n",
    "        out_end = end + n_steps_out\n",
    "        if out_end > len(seq):\n",
    "            break\n",
    "        seq_x, seq_y = seq[i:end], seq[end:out_end]\n",
    "        X.append(seq_x)\n",
    "        y.append(seq_y)\n",
    "    return np.array(X), np.array(y)"
   ]
  },
  {
   "cell_type": "code",
   "execution_count": 4,
   "id": "informational-herald",
   "metadata": {},
   "outputs": [],
   "source": [
    "def input_create(dat,s):\n",
    "\n",
    "    dat=dat.reshape(-1)\n",
    "    if s==1:\n",
    "        print(\"ppppppppp\")\n",
    "        train, test = dat[:-25], dat[-25:]\n",
    "        return train, test\n",
    "    else:\n",
    "        print(\"bbbbbbb\")\n",
    "        train, test = dat[:-30], dat[-30:]\n",
    "        return train, test\n"
   ]
  },
  {
   "cell_type": "code",
   "execution_count": 5,
   "id": "prompt-escape",
   "metadata": {},
   "outputs": [],
   "source": [
    "def data_set(s):\n",
    "    print(\"start work ......\")\n",
    "    n_steps_in = 25\n",
    "    n_steps_out = 5\n",
    "    df = pd.read_csv('final_data.csv')\n",
    "    df.dropna(inplace=True)\n",
    "    df.drop_duplicates(subset=['date'], keep='last', inplace=True)\n",
    "    data = np.array(df['close'].values)\n",
    "    data = data.reshape(-1,1)\n",
    "    scaler = MinMaxScaler(feature_range=(0,1))\n",
    "    \n",
    "    rescale = scaler.fit_transform(data)\n",
    "    train,test = input_create(rescale,s)\n",
    "#     print(len(test))\n",
    "    #train_x = train_x.reshape(train_x.shape[0], train_x.shape[1], 1)\n",
    "    if len(test) == 25:\n",
    "        test_x_1=np.array([test])\n",
    "        test_x_1 = test_x_1.reshape(test_x_1.shape[0], test_x_1.shape[1], 1)\n",
    "        print(\"ccccccccccc\")\n",
    "        return scaler, test_x_1\n",
    "    else:\n",
    "        test_x, test_y = split_sequence(list(test), n_steps_in, n_steps_out)\n",
    "        test_x = test_x.reshape(test_x.shape[0], test_x.shape[1], 1)\n",
    "        print(\"DDdddddddd\")\n",
    "        return scaler, test_x,test_y"
   ]
  },
  {
   "cell_type": "code",
   "execution_count": 6,
   "id": "manual-luxembourg",
   "metadata": {},
   "outputs": [],
   "source": [
    "def prediction():\n",
    "    s=0\n",
    "    current_time = datetime.datetime.now()\n",
    "    plt.figure(figsize=(15,6))\n",
    "    # Getting predictions by predicting from the last available X variable\n",
    "    #yhat = model.predict(X[-1].reshape(1, n_per_in, n_features)).tolist()[0]\n",
    "    # Transforming values back to their normal prices\n",
    "    if s==0:\n",
    "        scaler, test_x_1, test_y = data_set(s)\n",
    "        predi = model.predict(test_x_1)\n",
    "        yhat = scaler.inverse_transform(np.array(predi).reshape(-1,1)).tolist()\n",
    "        yhat = [np.round(x,2) for x in yhat]\n",
    "        print(yhat)\n",
    "        # Getting the actual values from the last available y variable which correspond to its respective X variable\n",
    "        actual = scaler.inverse_transform(test_y[-1].reshape(-1,1)).tolist()\n",
    "        actual = [np.round(x,2) for x in actual]\n",
    "        print(actual)\n",
    "        rms = mean_squared_error(actual, yhat, squared=False)\n",
    "    s+=1    \n",
    "    scaler, test_x= data_set(1)\n",
    "    predi_1 = model.predict(test_x)\n",
    "    yhaat = scaler.inverse_transform(np.array(predi_1).reshape(-1,1)).tolist()\n",
    "    yhaat = [np.round(x,2) for x in yhaat]\n",
    "    print(yhaat[0])\n",
    "    t=yhaat[0]-actual[-1]\n",
    "    if t > 50:\n",
    "        print(\"Buy\")\n",
    "    elif t < -50:\n",
    "        print(\"Sell\")\n",
    "    else:\n",
    "        print(\"neutral\")\n",
    "    \n",
    "    # Printing and plotting those predictions\n",
    "    print(\"Predicted Prices:\\n\", yhaat)\n",
    "    plt.plot(yhaat, label='Predicted')\n",
    "    plt.title(f\"Predicted vs Actual Closing Prices\")\n",
    "    plt.ylabel(\"Price\")\n",
    "    plt.legend()"
   ]
  },
  {
   "cell_type": "code",
   "execution_count": 7,
   "id": "bright-graphics",
   "metadata": {},
   "outputs": [
    {
     "name": "stdout",
     "output_type": "stream",
     "text": [
      "start work ......\n",
      "bbbbbbb\n",
      "DDdddddddd\n",
      "[array([53251.41]), array([53244.37]), array([53293.71]), array([53243.73]), array([53248.69])]\n",
      "[array([53561.]), array([53482.3]), array([53427.58]), array([53411.]), array([53427.73])]\n",
      "start work ......\n",
      "ppppppppp\n",
      "ccccccccccc\n",
      "[53259.08]\n",
      "Sell\n",
      "Predicted Prices:\n",
      " [array([53259.08]), array([53251.64]), array([53300.75]), array([53251.79]), array([53256.24])]\n"
     ]
    },
    {
     "data": {
      "image/png": "[encoded data removed]",
      "text/plain": [
       "<Figure size 1080x432 with 1 Axes>"
      ]
     },
     "metadata": {},
     "output_type": "display_data"
    }
   ],
   "source": [
    "prediction()"
   ]
  },
  {
   "cell_type": "code",
   "execution_count": 8,
   "id": "extended-impossible",
   "metadata": {},
   "outputs": [],
   "source": [
    "def model_predic(stock):\n",
    "    model = keras.models.load_model(\"test1.h5\")\n",
    "    def split_sequence(seq, n_steps_in, n_steps_out):\n",
    "        X, y = [], []\n",
    "        for i in range(len(seq)):\n",
    "            end = i + n_steps_in\n",
    "            out_end = end + n_steps_out\n",
    "            if out_end > len(seq):\n",
    "                break\n",
    "            seq_x, seq_y = seq[i:end], seq[end:out_end]\n",
    "            X.append(seq_x)\n",
    "            y.append(seq_y)\n",
    "        return np.array(X), np.array(y)\n",
    "    def input_create(dat,s):\n",
    "\n",
    "        dat=dat.reshape(-1)\n",
    "        if s==1:\n",
    "            train, test = dat[:-25], dat[-25:]\n",
    "            return train, test\n",
    "        else:\n",
    "            train, test = dat[:-30], dat[-30:]\n",
    "            return train, test\n",
    "    def data_set(s):\n",
    "        n_steps_in = 25\n",
    "        n_steps_out = 5\n",
    "        df = pd.read_csv(stock)\n",
    "        df.dropna(inplace=True)\n",
    "        df.drop_duplicates(subset=['date'], keep='last', inplace=True)\n",
    "        data = np.array(df['close'].values)\n",
    "        data = data.reshape(-1,1)\n",
    "        scaler = MinMaxScaler(feature_range=(0,1))\n",
    "\n",
    "        rescale = scaler.fit_transform(data)\n",
    "        train,test = input_create(rescale,s)\n",
    "    #     print(len(test))\n",
    "        #train_x = train_x.reshape(train_x.shape[0], train_x.shape[1], 1)\n",
    "        if len(test) == 25:\n",
    "            test_x_1=np.array([test])\n",
    "            test_x_1 = test_x_1.reshape(test_x_1.shape[0], test_x_1.shape[1], 1)\n",
    "            return scaler, test_x_1\n",
    "        else:\n",
    "            test_x, test_y = split_sequence(list(test), n_steps_in, n_steps_out)\n",
    "            test_x = test_x.reshape(test_x.shape[0], test_x.shape[1], 1)\n",
    "            return scaler, test_x,test_y\n",
    "    def prediction():\n",
    "        s=0\n",
    "        current_time = datetime.datetime.now()\n",
    "        \n",
    "  \n",
    "        if s==0:\n",
    "            scaler, test_x_1, test_y = data_set(s)\n",
    "            predi = model.predict(test_x_1)\n",
    "            yhat = scaler.inverse_transform(np.array(predi).reshape(-1,1)).tolist()\n",
    "            yhat = [np.round(x,2) for x in yhat]\n",
    "            # Getting the actual values from the last available y variable which correspond to its respective X variable\n",
    "            actual = scaler.inverse_transform(test_y[-1].reshape(-1,1)).tolist()\n",
    "            actual = [np.round(x,2) for x in actual]\n",
    "            rms = mean_squared_error(actual, yhat, squared=False)\n",
    "        s+=1    \n",
    "        scaler, test_x= data_set(1)\n",
    "        predi_1 = model.predict(test_x)\n",
    "        yhaat = scaler.inverse_transform(np.array(predi_1).reshape(-1,1)).tolist()\n",
    "        yhaat = [np.round(x,2) for x in yhaat]\n",
    "        R=yhaat[0][0]\n",
    "        t=yhaat[0][0]-actual[-1]\n",
    "        t=-400\n",
    "        t=t+rms  \n",
    "        print(rms)\n",
    "        print (t)\n",
    "        if t > 50:\n",
    "            tt=\"Buy\"\n",
    "        elif t < -50:\n",
    "            tt=\"Sell\"\n",
    "        else:\n",
    "            tt=\"neutral\"      \n",
    "        return R,tt\n",
    "    R,tt=prediction()\n",
    "    return R,tt"
   ]
  },
  {
   "cell_type": "code",
   "execution_count": 9,
   "id": "discrete-stuart",
   "metadata": {},
   "outputs": [
    {
     "name": "stdout",
     "output_type": "stream",
     "text": [
      "214.66830432087448\n",
      "-185.33169567912552\n"
     ]
    },
    {
     "data": {
      "text/plain": [
       "(53259.08, 'Sell')"
      ]
     },
     "execution_count": 9,
     "metadata": {},
     "output_type": "execute_result"
    }
   ],
   "source": [
    "model_predic('final_data.csv')"
   ]
  },
  {
   "cell_type": "code",
   "execution_count": null,
   "id": "banner-ordering",
   "metadata": {},
   "outputs": [],
   "source": []
  }
 ],
 "metadata": {
  "kernelspec": {
   "display_name": "Python 3",
   "language": "python",
   "name": "python3"
  },
  "language_info": {
   "codemirror_mode": {
    "name": "ipython",
    "version": 3
   },
   "file_extension": ".py",
   "mimetype": "text/x-python",
   "name": "python",
   "nbconvert_exporter": "python",
   "pygments_lexer": "ipython3",
   "version": "3.6.9"
  }
 },
 "nbformat": 4,
 "nbformat_minor": 5
}
