{
 "cells": [
  {
   "cell_type": "code",
   "execution_count": 1,
   "id": "acute-calculation",
   "metadata": {},
   "outputs": [],
   "source": [
    "import numpy as np\n",
    "import matplotlib.pyplot as plt\n",
    "import pandas as pd\n",
    "from sklearn.preprocessing import MinMaxScaler\n",
    "plt.style.use(\"ggplot\")\n",
    "import tensorflow as tf\n",
    "from tensorflow import keras\n",
    "#from tensorflow.keras.models import Sequential\n",
    "#from tensorflow.keras.layers import LSTM, Dense, Dropout,Bidirectional, Activation, LeakyReLU\n",
    "import datetime\n",
    "import schedule\n",
    "import time\n",
    "import os "
   ]
  },
  {
   "cell_type": "code",
   "execution_count": 2,
   "id": "creative-numbers",
   "metadata": {},
   "outputs": [],
   "source": [
    "name = \"test\"\n",
    "amount = 10000\n"
   ]
  },
  {
   "cell_type": "code",
   "execution_count": 3,
   "id": "wireless-desire",
   "metadata": {},
   "outputs": [],
   "source": [
    "model = keras.models.load_model(\"test_test.h5\")\n"
   ]
  },
  {
   "cell_type": "code",
   "execution_count": 4,
   "id": "republican-tobacco",
   "metadata": {},
   "outputs": [],
   "source": [
    "def split_sequence(seq, n_steps_in, n_steps_out):\n",
    "    \"\"\"\n",
    "    Splits the univariate time sequence\n",
    "    \"\"\"\n",
    "    X, y = [], []\n",
    "    for i in range(len(seq)):\n",
    "        end = i + n_steps_in\n",
    "        out_end = end + n_steps_out\n",
    "        print(out_end)\n",
    "        print(end)\n",
    "        if end > len(seq):\n",
    "            break\n",
    "        \n",
    "        seq_x = seq[i:end]\n",
    "        X.append(seq_x)\n",
    "        #y.append(seq_y)\n",
    "        print(seq_x)\n",
    "    print(X)\n",
    "    return np.array(X), np.array(y)\n",
    "def input_create(dat):\n",
    "\n",
    "    \n",
    "    dat=dat.reshape(-1)\n",
    "    train, test = dat[:-25], dat[-25:]\n",
    "    print(train.shape)\n",
    "    return train, test\n",
    "\n",
    "def data_set():\n",
    "    print(\"start work ......\")\n",
    "    n_steps_in = 25\n",
    "    n_steps_out = 5\n",
    "    df = pd.read_csv('final_data.csv')\n",
    "    df.dropna(inplace=True)\n",
    "    df.drop_duplicates(subset=['date'], keep='last', inplace=True)\n",
    "    data = np.array(df['close'].values)\n",
    "    data = data.reshape(-1,1)\n",
    "    scaler = MinMaxScaler(feature_range=(0,1))\n",
    "\n",
    "    rescale = scaler.fit_transform(data)\n",
    "    train , test = input_create(rescale)\n",
    "    #train_x = train_x.reshape(train_x.shape[0], train_x.shape[1], 1)\n",
    "    test_x, test_y = split_sequence(list(test), n_steps_in, n_steps_out)\n",
    "    print(test_x)\n",
    "    test_x = test_x.reshape(test_x.shape[0], test_x.shape[1], 1)\n",
    "    return scaler, test_x, test_y\n",
    "def prediction():\n",
    "    print(\"I'm working...\")\n",
    "    scaler, test_x, test_y = data_set()\n",
    "    current_time = datetime.datetime.now()\n",
    "    predi = model.predict(test_x)\n",
    "    #plt.figure(figsize=(12,5))\n",
    "    # Getting predictions by predicting from the last available X variable\n",
    "    #yhat = model.predict(X[-1].reshape(1, n_per_in, n_features)).tolist()[0]\n",
    "    # Transforming values back to their normal prices\n",
    "    yhat = scaler.inverse_transform(np.array(predi).reshape(-1,1)).tolist()\n",
    "    # Getting the actual values from the last available y variable which correspond to its respective X variable\n",
    "#     actual = scaler.inverse_transform(test_y[-1].reshape(-1,1))\n",
    "#     # Printing and plotting those predictions\n",
    "#     #print(\"Predicted Prices:\\n\", yhat)\n",
    "#     plt.plot(yhat, label='Predicted')\n",
    "#     # Printing and plotting the actual values\n",
    "#     #print(\"\\nActual Prices:\\n\", actual.tolist())\n",
    "#     plt.plot(actual.tolist(), label='Actual')\n",
    "#     plt.title(f\"Predicted vs Actual Closing Prices\")\n",
    "#     plt.ylabel(\"Price\")\n",
    "#     plt.legend()\n",
    "    return yhat"
   ]
  },
  {
   "cell_type": "code",
   "execution_count": 5,
   "id": "auburn-collect",
   "metadata": {},
   "outputs": [
    {
     "ename": "TypeError",
     "evalue": "data_set() takes 0 positional arguments but 1 was given",
     "output_type": "error",
     "traceback": [
      "\u001b[0;31m---------------------------------------------------------------------------\u001b[0m",
      "\u001b[0;31mTypeError\u001b[0m                                 Traceback (most recent call last)",
      "\u001b[0;32m<ipython-input-5-e7da73c75167>\u001b[0m in \u001b[0;36m<module>\u001b[0;34m\u001b[0m\n\u001b[0;32m----> 1\u001b[0;31m \u001b[0mvalue\u001b[0m\u001b[0;34m,\u001b[0m\u001b[0mtt\u001b[0m\u001b[0;34m=\u001b[0m \u001b[0mprediction\u001b[0m\u001b[0;34m(\u001b[0m\u001b[0;34m)\u001b[0m\u001b[0;34m\u001b[0m\u001b[0;34m\u001b[0m\u001b[0m\n\u001b[0m",
      "\u001b[0;32m<ipython-input-4-8b55e2b01da1>\u001b[0m in \u001b[0;36mprediction\u001b[0;34m()\u001b[0m\n\u001b[1;32m     51\u001b[0m         \u001b[0;31m# Transforming values back to their normal prices\u001b[0m\u001b[0;34m\u001b[0m\u001b[0;34m\u001b[0m\u001b[0;34m\u001b[0m\u001b[0m\n\u001b[1;32m     52\u001b[0m     \u001b[0;32mif\u001b[0m \u001b[0ms\u001b[0m\u001b[0;34m==\u001b[0m\u001b[0;36m0\u001b[0m\u001b[0;34m:\u001b[0m\u001b[0;34m\u001b[0m\u001b[0;34m\u001b[0m\u001b[0m\n\u001b[0;32m---> 53\u001b[0;31m         \u001b[0mscaler\u001b[0m\u001b[0;34m,\u001b[0m \u001b[0mtest_x_1\u001b[0m\u001b[0;34m,\u001b[0m \u001b[0mtest_y\u001b[0m \u001b[0;34m=\u001b[0m \u001b[0mdata_set\u001b[0m\u001b[0;34m(\u001b[0m\u001b[0ms\u001b[0m\u001b[0;34m)\u001b[0m\u001b[0;34m\u001b[0m\u001b[0;34m\u001b[0m\u001b[0m\n\u001b[0m\u001b[1;32m     54\u001b[0m         \u001b[0mpredi\u001b[0m \u001b[0;34m=\u001b[0m \u001b[0mmodel\u001b[0m\u001b[0;34m.\u001b[0m\u001b[0mpredict\u001b[0m\u001b[0;34m(\u001b[0m\u001b[0mtest_x_1\u001b[0m\u001b[0;34m)\u001b[0m\u001b[0;34m\u001b[0m\u001b[0;34m\u001b[0m\u001b[0m\n\u001b[1;32m     55\u001b[0m         \u001b[0myhat\u001b[0m \u001b[0;34m=\u001b[0m \u001b[0mscaler\u001b[0m\u001b[0;34m.\u001b[0m\u001b[0minverse_transform\u001b[0m\u001b[0;34m(\u001b[0m\u001b[0mnp\u001b[0m\u001b[0;34m.\u001b[0m\u001b[0marray\u001b[0m\u001b[0;34m(\u001b[0m\u001b[0mpredi\u001b[0m\u001b[0;34m)\u001b[0m\u001b[0;34m.\u001b[0m\u001b[0mreshape\u001b[0m\u001b[0;34m(\u001b[0m\u001b[0;34m-\u001b[0m\u001b[0;36m1\u001b[0m\u001b[0;34m,\u001b[0m\u001b[0;36m1\u001b[0m\u001b[0;34m)\u001b[0m\u001b[0;34m)\u001b[0m\u001b[0;34m.\u001b[0m\u001b[0mtolist\u001b[0m\u001b[0;34m(\u001b[0m\u001b[0;34m)\u001b[0m\u001b[0;34m\u001b[0m\u001b[0;34m\u001b[0m\u001b[0m\n",
      "\u001b[0;31mTypeError\u001b[0m: data_set() takes 0 positional arguments but 1 was given"
     ]
    }
   ],
   "source": [
    "value,tt= prediction()"
   ]
  },
  {
   "cell_type": "code",
   "execution_count": null,
   "id": "through-assessment",
   "metadata": {},
   "outputs": [],
   "source": [
    "value"
   ]
  },
  {
   "cell_type": "code",
   "execution_count": null,
   "id": "north-companion",
   "metadata": {},
   "outputs": [],
   "source": []
  },
  {
   "cell_type": "code",
   "execution_count": null,
   "id": "contemporary-collaboration",
   "metadata": {},
   "outputs": [],
   "source": []
  },
  {
   "cell_type": "code",
   "execution_count": null,
   "id": "occupational-origin",
   "metadata": {},
   "outputs": [],
   "source": []
  },
  {
   "cell_type": "code",
   "execution_count": null,
   "id": "executive-pastor",
   "metadata": {},
   "outputs": [],
   "source": []
  }
 ],
 "metadata": {
  "kernelspec": {
   "display_name": "Python 3",
   "language": "python",
   "name": "python3"
  },
  "language_info": {
   "codemirror_mode": {
    "name": "ipython",
    "version": 3
   },
   "file_extension": ".py",
   "mimetype": "text/x-python",
   "name": "python",
   "nbconvert_exporter": "python",
   "pygments_lexer": "ipython3",
   "version": "3.6.9"
  }
 },
 "nbformat": 4,
 "nbformat_minor": 5
}
